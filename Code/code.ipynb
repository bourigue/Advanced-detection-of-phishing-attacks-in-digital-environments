{
 "cells": [
  {
   "cell_type": "code",
   "execution_count": null,
   "metadata": {},
   "outputs": [],
   "source": []
  },
  {
   "cell_type": "code",
   "execution_count": 10,
   "metadata": {},
   "outputs": [
    {
     "data": {
      "text/plain": [
       "Index(['index', 'length_url', 'length_hostname', 'ip', 'nb_dots', 'nb_hyphens',\n",
       "       'nb_at', 'nb_qm', 'nb_and', 'nb_or', 'nb_eq', 'nb_underscore',\n",
       "       'nb_tilde', 'nb_percent', 'nb_slash', 'nb_star', 'nb_colon', 'nb_comma',\n",
       "       'nb_semicolumn', 'nb_dollar', 'nb_space', 'nb_www', 'nb_com',\n",
       "       'nb_dslash', 'http_in_path', 'https_token', 'ratio_digits_url',\n",
       "       'ratio_digits_host', 'punycode', 'port', 'tld_in_path',\n",
       "       'tld_in_subdomain', 'abnormal_subdomain', 'nb_subdomains',\n",
       "       'prefix_suffix', 'random_domain', 'shortening_service',\n",
       "       'path_extension', 'nb_redirection', 'nb_external_redirection',\n",
       "       'length_words_raw', 'char_repeat', 'shortest_words_raw',\n",
       "       'shortest_word_host', 'shortest_word_path', 'longest_words_raw',\n",
       "       'longest_word_host', 'longest_word_path', 'avg_words_raw',\n",
       "       'avg_word_host', 'avg_word_path', 'phish_hints', 'domain_in_brand',\n",
       "       'brand_in_subdomain', 'brand_in_path', 'suspecious_tld',\n",
       "       'statistical_report', 'nb_hyperlinks', 'ratio_intHyperlinks',\n",
       "       'ratio_extHyperlinks', 'ratio_nullHyperlinks', 'nb_extCSS',\n",
       "       'ratio_intRedirection', 'ratio_extRedirection', 'ratio_intErrors',\n",
       "       'ratio_extErrors', 'login_form', 'external_favicon', 'links_in_tags',\n",
       "       'submit_email', 'ratio_intMedia', 'ratio_extMedia', 'sfh', 'iframe',\n",
       "       'popup_window', 'safe_anchor', 'onmouseover', 'right_clic',\n",
       "       'empty_title', 'domain_in_title', 'domain_with_copyright',\n",
       "       'whois_registered_domain', 'domain_registration_length', 'domain_age',\n",
       "       'web_traffic', 'dns_record', 'google_index', 'page_rank', 'status'],\n",
       "      dtype='object')"
      ]
     },
     "execution_count": 10,
     "metadata": {},
     "output_type": "execute_result"
    }
   ],
   "source": [
    "import numpy as np \n",
    "import pandas as pd\n",
    "data=pd.read_csv('../Dataset/dataset_B_05_2020.csv')\n",
    "data.columns\n"
   ]
  },
  {
   "cell_type": "code",
   "execution_count": 11,
   "metadata": {},
   "outputs": [],
   "source": [
    "from sklearn.model_selection import train_test_split\n",
    "X = data.copy()\n",
    "X['status'] = X['status'].replace({'legitimate': 1})\n",
    "X['status'] = X['status'].replace({'phishing': 0})\n",
    "y = X.pop('status')"
   ]
  },
  {
   "cell_type": "code",
   "execution_count": null,
   "metadata": {},
   "outputs": [],
   "source": [
    "\n"
   ]
  },
  {
   "cell_type": "code",
   "execution_count": 12,
   "metadata": {},
   "outputs": [
    {
     "name": "stdout",
     "output_type": "stream",
     "text": [
      "Input shape is  [87]\n"
     ]
    },
    {
     "data": {
      "text/html": [
       "<div>\n",
       "<style scoped>\n",
       "    .dataframe tbody tr th:only-of-type {\n",
       "        vertical-align: middle;\n",
       "    }\n",
       "\n",
       "    .dataframe tbody tr th {\n",
       "        vertical-align: top;\n",
       "    }\n",
       "\n",
       "    .dataframe thead th {\n",
       "        text-align: right;\n",
       "    }\n",
       "</style>\n",
       "<table border=\"1\" class=\"dataframe\">\n",
       "  <thead>\n",
       "    <tr style=\"text-align: right;\">\n",
       "      <th></th>\n",
       "      <th>length_url</th>\n",
       "      <th>length_hostname</th>\n",
       "      <th>ip</th>\n",
       "      <th>nb_dots</th>\n",
       "      <th>nb_hyphens</th>\n",
       "      <th>nb_at</th>\n",
       "      <th>nb_qm</th>\n",
       "      <th>nb_and</th>\n",
       "      <th>nb_or</th>\n",
       "      <th>nb_eq</th>\n",
       "      <th>...</th>\n",
       "      <th>empty_title</th>\n",
       "      <th>domain_in_title</th>\n",
       "      <th>domain_with_copyright</th>\n",
       "      <th>whois_registered_domain</th>\n",
       "      <th>domain_registration_length</th>\n",
       "      <th>domain_age</th>\n",
       "      <th>web_traffic</th>\n",
       "      <th>dns_record</th>\n",
       "      <th>google_index</th>\n",
       "      <th>page_rank</th>\n",
       "    </tr>\n",
       "  </thead>\n",
       "  <tbody>\n",
       "    <tr>\n",
       "      <th>0</th>\n",
       "      <td>37</td>\n",
       "      <td>19</td>\n",
       "      <td>0</td>\n",
       "      <td>3</td>\n",
       "      <td>0</td>\n",
       "      <td>0</td>\n",
       "      <td>0</td>\n",
       "      <td>0</td>\n",
       "      <td>0</td>\n",
       "      <td>0</td>\n",
       "      <td>...</td>\n",
       "      <td>0</td>\n",
       "      <td>0</td>\n",
       "      <td>1</td>\n",
       "      <td>0</td>\n",
       "      <td>45</td>\n",
       "      <td>-1</td>\n",
       "      <td>0</td>\n",
       "      <td>1</td>\n",
       "      <td>1</td>\n",
       "      <td>4</td>\n",
       "    </tr>\n",
       "    <tr>\n",
       "      <th>1</th>\n",
       "      <td>77</td>\n",
       "      <td>23</td>\n",
       "      <td>1</td>\n",
       "      <td>1</td>\n",
       "      <td>0</td>\n",
       "      <td>0</td>\n",
       "      <td>0</td>\n",
       "      <td>0</td>\n",
       "      <td>0</td>\n",
       "      <td>0</td>\n",
       "      <td>...</td>\n",
       "      <td>0</td>\n",
       "      <td>1</td>\n",
       "      <td>0</td>\n",
       "      <td>0</td>\n",
       "      <td>77</td>\n",
       "      <td>5767</td>\n",
       "      <td>0</td>\n",
       "      <td>0</td>\n",
       "      <td>1</td>\n",
       "      <td>2</td>\n",
       "    </tr>\n",
       "    <tr>\n",
       "      <th>2</th>\n",
       "      <td>126</td>\n",
       "      <td>50</td>\n",
       "      <td>1</td>\n",
       "      <td>4</td>\n",
       "      <td>1</td>\n",
       "      <td>0</td>\n",
       "      <td>1</td>\n",
       "      <td>2</td>\n",
       "      <td>0</td>\n",
       "      <td>3</td>\n",
       "      <td>...</td>\n",
       "      <td>0</td>\n",
       "      <td>1</td>\n",
       "      <td>0</td>\n",
       "      <td>0</td>\n",
       "      <td>14</td>\n",
       "      <td>4004</td>\n",
       "      <td>5828815</td>\n",
       "      <td>0</td>\n",
       "      <td>1</td>\n",
       "      <td>0</td>\n",
       "    </tr>\n",
       "    <tr>\n",
       "      <th>3</th>\n",
       "      <td>18</td>\n",
       "      <td>11</td>\n",
       "      <td>0</td>\n",
       "      <td>2</td>\n",
       "      <td>0</td>\n",
       "      <td>0</td>\n",
       "      <td>0</td>\n",
       "      <td>0</td>\n",
       "      <td>0</td>\n",
       "      <td>0</td>\n",
       "      <td>...</td>\n",
       "      <td>0</td>\n",
       "      <td>1</td>\n",
       "      <td>0</td>\n",
       "      <td>0</td>\n",
       "      <td>62</td>\n",
       "      <td>-1</td>\n",
       "      <td>107721</td>\n",
       "      <td>0</td>\n",
       "      <td>0</td>\n",
       "      <td>3</td>\n",
       "    </tr>\n",
       "    <tr>\n",
       "      <th>4</th>\n",
       "      <td>55</td>\n",
       "      <td>15</td>\n",
       "      <td>0</td>\n",
       "      <td>2</td>\n",
       "      <td>2</td>\n",
       "      <td>0</td>\n",
       "      <td>0</td>\n",
       "      <td>0</td>\n",
       "      <td>0</td>\n",
       "      <td>0</td>\n",
       "      <td>...</td>\n",
       "      <td>0</td>\n",
       "      <td>0</td>\n",
       "      <td>1</td>\n",
       "      <td>0</td>\n",
       "      <td>224</td>\n",
       "      <td>8175</td>\n",
       "      <td>8725</td>\n",
       "      <td>0</td>\n",
       "      <td>0</td>\n",
       "      <td>6</td>\n",
       "    </tr>\n",
       "  </tbody>\n",
       "</table>\n",
       "<p>5 rows × 87 columns</p>\n",
       "</div>"
      ],
      "text/plain": [
       "   length_url  length_hostname  ip  nb_dots  nb_hyphens  nb_at  nb_qm  nb_and  \\\n",
       "0          37               19   0        3           0      0      0       0   \n",
       "1          77               23   1        1           0      0      0       0   \n",
       "2         126               50   1        4           1      0      1       2   \n",
       "3          18               11   0        2           0      0      0       0   \n",
       "4          55               15   0        2           2      0      0       0   \n",
       "\n",
       "   nb_or  nb_eq  ...  empty_title  domain_in_title  domain_with_copyright  \\\n",
       "0      0      0  ...            0                0                      1   \n",
       "1      0      0  ...            0                1                      0   \n",
       "2      0      3  ...            0                1                      0   \n",
       "3      0      0  ...            0                1                      0   \n",
       "4      0      0  ...            0                0                      1   \n",
       "\n",
       "   whois_registered_domain  domain_registration_length  domain_age  \\\n",
       "0                        0                          45          -1   \n",
       "1                        0                          77        5767   \n",
       "2                        0                          14        4004   \n",
       "3                        0                          62          -1   \n",
       "4                        0                         224        8175   \n",
       "\n",
       "   web_traffic  dns_record  google_index  page_rank  \n",
       "0            0           1             1          4  \n",
       "1            0           0             1          2  \n",
       "2      5828815           0             1          0  \n",
       "3       107721           0             0          3  \n",
       "4         8725           0             0          6  \n",
       "\n",
       "[5 rows x 87 columns]"
      ]
     },
     "execution_count": 12,
     "metadata": {},
     "output_type": "execute_result"
    }
   ],
   "source": [
    "\n",
    "\n",
    "\n",
    "\n",
    "\n",
    "\n",
    "X = data.drop(columns=['index','status'])\n",
    "\n",
    "X_train, X_valid, y_train, y_valid = \\\n",
    "    train_test_split(X, y, stratify=y, train_size=0.75)\n",
    "\n",
    "input_shape = [X_train.shape[1]]\n",
    "print(\"Input shape is \", input_shape)\n",
    "X.head()"
   ]
  },
  {
   "cell_type": "code",
   "execution_count": 13,
   "metadata": {},
   "outputs": [],
   "source": [
    "from tensorflow import keras\n",
    "from tensorflow.keras import layers\n",
    "\n",
    "model = keras.Sequential([\n",
    "    layers.BatchNormalization(input_shape=input_shape),\n",
    "    layers.Dense(512, activation='relu'),\n",
    "    layers.BatchNormalization(),\n",
    "    layers.Dropout(0.3),\n",
    "    layers.Dense(512, activation='relu'),\n",
    "    layers.BatchNormalization(),\n",
    "     layers.Dense(512, activation='relu'),\n",
    "    layers.BatchNormalization(),\n",
    "     layers.Dense(512, activation='relu'),\n",
    "    layers.BatchNormalization(),\n",
    "    layers.Dropout(0.3),\n",
    "    layers.Dense(1, activation='sigmoid'),\n",
    "])"
   ]
  },
  {
   "cell_type": "code",
   "execution_count": 14,
   "metadata": {},
   "outputs": [],
   "source": [
    "model.compile(\n",
    "    optimizer='adam',\n",
    "    loss='binary_crossentropy',\n",
    "    metrics=['binary_accuracy',keras.metrics.Precision(),keras.metrics.Recall()],\n",
    "    \n",
    ")\n",
    "\n"
   ]
  },
  {
   "cell_type": "code",
   "execution_count": null,
   "metadata": {},
   "outputs": [],
   "source": [
    "\n"
   ]
  },
  {
   "cell_type": "code",
   "execution_count": null,
   "metadata": {},
   "outputs": [],
   "source": []
  },
  {
   "cell_type": "code",
   "execution_count": 15,
   "metadata": {},
   "outputs": [
    {
     "name": "stdout",
     "output_type": "stream",
     "text": [
      "Epoch 1/20\n",
      "17/17 [==============================] - 3s 61ms/step - loss: 0.2874 - binary_accuracy: 0.8861 - precision_1: 0.8789 - recall_1: 0.8957 - val_loss: 0.4843 - val_binary_accuracy: 0.7565 - val_precision_1: 0.9729 - val_recall_1: 0.5276\n",
      "Epoch 2/20\n",
      "17/17 [==============================] - 1s 36ms/step - loss: 0.1429 - binary_accuracy: 0.9500 - precision_1: 0.9490 - recall_1: 0.9510 - val_loss: 0.3875 - val_binary_accuracy: 0.8230 - val_precision_1: 0.9592 - val_recall_1: 0.6746\n",
      "Epoch 3/20\n",
      "17/17 [==============================] - 1s 32ms/step - loss: 0.1077 - binary_accuracy: 0.9616 - precision_1: 0.9628 - recall_1: 0.9603 - val_loss: 0.2983 - val_binary_accuracy: 0.8985 - val_precision_1: 0.9191 - val_recall_1: 0.8740\n",
      "Epoch 4/20\n",
      "17/17 [==============================] - 1s 30ms/step - loss: 0.0903 - binary_accuracy: 0.9671 - precision_1: 0.9647 - recall_1: 0.9697 - val_loss: 0.2460 - val_binary_accuracy: 0.9234 - val_precision_1: 0.9196 - val_recall_1: 0.9279\n",
      "Epoch 5/20\n",
      "17/17 [==============================] - 1s 33ms/step - loss: 0.0784 - binary_accuracy: 0.9711 - precision_1: 0.9717 - recall_1: 0.9704 - val_loss: 0.2270 - val_binary_accuracy: 0.9251 - val_precision_1: 0.8932 - val_recall_1: 0.9657\n",
      "Epoch 6/20\n",
      "17/17 [==============================] - 1s 33ms/step - loss: 0.0713 - binary_accuracy: 0.9753 - precision_1: 0.9742 - recall_1: 0.9764 - val_loss: 0.2102 - val_binary_accuracy: 0.9262 - val_precision_1: 0.8965 - val_recall_1: 0.9636\n",
      "Epoch 7/20\n",
      "17/17 [==============================] - 1s 33ms/step - loss: 0.0626 - binary_accuracy: 0.9775 - precision_1: 0.9765 - recall_1: 0.9785 - val_loss: 0.1800 - val_binary_accuracy: 0.9419 - val_precision_1: 0.9207 - val_recall_1: 0.9671\n",
      "Epoch 8/20\n",
      "17/17 [==============================] - 1s 30ms/step - loss: 0.0551 - binary_accuracy: 0.9811 - precision_1: 0.9802 - recall_1: 0.9820 - val_loss: 0.1548 - val_binary_accuracy: 0.9461 - val_precision_1: 0.9357 - val_recall_1: 0.9580\n",
      "Epoch 9/20\n",
      "17/17 [==============================] - 1s 32ms/step - loss: 0.0507 - binary_accuracy: 0.9825 - precision_1: 0.9830 - recall_1: 0.9820 - val_loss: 0.1803 - val_binary_accuracy: 0.9349 - val_precision_1: 0.8987 - val_recall_1: 0.9804\n",
      "Epoch 10/20\n",
      "17/17 [==============================] - 1s 30ms/step - loss: 0.0491 - binary_accuracy: 0.9816 - precision_1: 0.9809 - recall_1: 0.9823 - val_loss: 0.1408 - val_binary_accuracy: 0.9489 - val_precision_1: 0.9251 - val_recall_1: 0.9769\n",
      "Epoch 11/20\n",
      "17/17 [==============================] - 1s 30ms/step - loss: 0.0460 - binary_accuracy: 0.9820 - precision_1: 0.9829 - recall_1: 0.9811 - val_loss: 0.1519 - val_binary_accuracy: 0.9524 - val_precision_1: 0.9279 - val_recall_1: 0.9811\n",
      "Epoch 12/20\n",
      "17/17 [==============================] - 1s 36ms/step - loss: 0.0447 - binary_accuracy: 0.9840 - precision_1: 0.9821 - recall_1: 0.9860 - val_loss: 0.1283 - val_binary_accuracy: 0.9531 - val_precision_1: 0.9432 - val_recall_1: 0.9643\n",
      "Epoch 13/20\n",
      "17/17 [==============================] - 1s 34ms/step - loss: 0.0401 - binary_accuracy: 0.9848 - precision_1: 0.9835 - recall_1: 0.9862 - val_loss: 0.1388 - val_binary_accuracy: 0.9566 - val_precision_1: 0.9406 - val_recall_1: 0.9748\n",
      "Epoch 14/20\n",
      "17/17 [==============================] - 1s 34ms/step - loss: 0.0335 - binary_accuracy: 0.9888 - precision_1: 0.9879 - recall_1: 0.9897 - val_loss: 0.1353 - val_binary_accuracy: 0.9612 - val_precision_1: 0.9514 - val_recall_1: 0.9720\n",
      "Epoch 15/20\n",
      "17/17 [==============================] - 1s 31ms/step - loss: 0.0291 - binary_accuracy: 0.9889 - precision_1: 0.9883 - recall_1: 0.9895 - val_loss: 0.1388 - val_binary_accuracy: 0.9587 - val_precision_1: 0.9493 - val_recall_1: 0.9692\n",
      "Epoch 16/20\n",
      "17/17 [==============================] - 1s 33ms/step - loss: 0.0228 - binary_accuracy: 0.9907 - precision_1: 0.9907 - recall_1: 0.9907 - val_loss: 0.1413 - val_binary_accuracy: 0.9594 - val_precision_1: 0.9481 - val_recall_1: 0.9720\n",
      "Epoch 17/20\n",
      "17/17 [==============================] - 1s 31ms/step - loss: 0.0265 - binary_accuracy: 0.9911 - precision_1: 0.9902 - recall_1: 0.9921 - val_loss: 0.1328 - val_binary_accuracy: 0.9615 - val_precision_1: 0.9589 - val_recall_1: 0.9643\n",
      "Epoch 18/20\n",
      "17/17 [==============================] - 1s 31ms/step - loss: 0.0226 - binary_accuracy: 0.9914 - precision_1: 0.9893 - recall_1: 0.9935 - val_loss: 0.1376 - val_binary_accuracy: 0.9622 - val_precision_1: 0.9655 - val_recall_1: 0.9587\n",
      "Epoch 19/20\n",
      "17/17 [==============================] - 1s 31ms/step - loss: 0.0233 - binary_accuracy: 0.9908 - precision_1: 0.9916 - recall_1: 0.9900 - val_loss: 0.1430 - val_binary_accuracy: 0.9636 - val_precision_1: 0.9541 - val_recall_1: 0.9741\n",
      "Epoch 20/20\n",
      "17/17 [==============================] - 1s 34ms/step - loss: 0.0168 - binary_accuracy: 0.9945 - precision_1: 0.9937 - recall_1: 0.9953 - val_loss: 0.1523 - val_binary_accuracy: 0.9605 - val_precision_1: 0.9673 - val_recall_1: 0.9531\n"
     ]
    }
   ],
   "source": [
    "early_stopping = keras.callbacks.EarlyStopping(\n",
    "    patience=20,\n",
    "    min_delta=0.01,\n",
    "    restore_best_weights=True,\n",
    ")\n",
    "history = model.fit(\n",
    "    X_train, y_train,\n",
    "    validation_data=(X_valid, y_valid),\n",
    "    batch_size=512,\n",
    "    epochs=20,\n",
    "    callbacks=[early_stopping],\n",
    "    \n",
    ")"
   ]
  },
  {
   "cell_type": "code",
   "execution_count": 21,
   "metadata": {},
   "outputs": [
    {
     "data": {
      "text/plain": [
       "<Axes: >"
      ]
     },
     "execution_count": 21,
     "metadata": {},
     "output_type": "execute_result"
    },
    {
     "data": {
      "image/png": "[encoded data removed]",
      "text/plain": [
       "<Figure size 640x480 with 1 Axes>"
      ]
     },
     "metadata": {},
     "output_type": "display_data"
    },
    {
     "data": {
      "image/png": "[encoded data removed]",
      "text/plain": [
       "<Figure size 640x480 with 1 Axes>"
      ]
     },
     "metadata": {},
     "output_type": "display_data"
    }
   ],
   "source": [
    "history_df = pd.DataFrame(history.history)\n",
    "history_df.loc[0:, ['loss', 'val_loss']].plot()\n",
    "history_df.loc[0:, ['binary_accuracy', 'val_binary_accuracy']].plot()\n",
    "\n",
    "#print(f\"Best Validation Loss: {history_df['val_loss'].min()}\" +\\\n",
    "     # f\"\\nBest Validation Accuracy: {history_df['val_binary_accuracy'].max()}\"+\\\n",
    "     # f\"\\nBest Recall: {history_df['val_recall'].max()}\" +\\\n",
    "      #f\"\\nBest Precision: {history_df['val_precision'].max()}\"\n",
    "#)"
   ]
  },
  {
   "cell_type": "code",
   "execution_count": null,
   "metadata": {},
   "outputs": [],
   "source": []
  },
  {
   "cell_type": "code",
   "execution_count": null,
   "metadata": {},
   "outputs": [],
   "source": []
  }
 ],
 "metadata": {
  "kernelspec": {
   "display_name": "Python 3 (ipykernel)",
   "language": "python",
   "name": "python3"
  },
  "language_info": {
   "codemirror_mode": {
    "name": "ipython",
    "version": 3
   },
   "file_extension": ".py",
   "mimetype": "text/x-python",
   "name": "python",
   "nbconvert_exporter": "python",
   "pygments_lexer": "ipython3",
   "version": "3.9.18"
  },
  "vscode": {
   "interpreter": {
    "hash": "369f2c481f4da34e4445cda3fffd2e751bd1c4d706f27375911949ba6bb62e1c"
   }
  }
 },
 "nbformat": 4,
 "nbformat_minor": 4
}
